{
  "nbformat": 4,
  "nbformat_minor": 0,
  "metadata": {
    "colab": {
      "provenance": []
    },
    "kernelspec": {
      "name": "python3",
      "display_name": "Python 3"
    },
    "language_info": {
      "name": "python"
    }
  },
  "cells": [
    {
      "cell_type": "code",
      "execution_count": 1,
      "metadata": {
        "colab": {
          "base_uri": "https://localhost:8080/"
        },
        "id": "NLcIRUUAZXik",
        "outputId": "28c6f76a-598f-4205-9bc0-0ce9ab9c53ea"
      },
      "outputs": [
        {
          "output_type": "stream",
          "name": "stdout",
          "text": [
            "(1, 'Pulpen', 60)\n"
          ]
        }
      ],
      "source": [
        "#2. Manajemen Teknis\n",
        "import sqlite3\n",
        "\n",
        "# --- Setup Database ---\n",
        "conn = sqlite3.connect(\"inventori.db\")\n",
        "cur = conn.cursor()\n",
        "cur.execute('''CREATE TABLE IF NOT EXISTS barang (\n",
        "    id INTEGER PRIMARY KEY AUTOINCREMENT,\n",
        "    nama TEXT,\n",
        "    stok INTEGER\n",
        ")''')\n",
        "conn.commit()\n",
        "\n",
        "# --- Fungsi Aplikasi ---\n",
        "def tambah_barang(nama, stok):\n",
        "    cur.execute(\"INSERT INTO barang (nama, stok) VALUES (?, ?)\", (nama, stok))\n",
        "    conn.commit()\n",
        "\n",
        "def tampilkan_barang():\n",
        "    cur.execute(\"SELECT * FROM barang\")\n",
        "    for row in cur.fetchall():\n",
        "        print(row)\n",
        "\n",
        "def edit_barang(id_barang, stok_baru):\n",
        "    cur.execute(\"UPDATE barang SET stok=? WHERE id=?\", (stok_baru, id_barang))\n",
        "    conn.commit()\n",
        "\n",
        "def hapus_barang(id_barang):\n",
        "    cur.execute(\"DELETE FROM barang WHERE id=?\", (id_barang,))\n",
        "    conn.commit()\n",
        "\n",
        "# --- Contoh Penggunaan ---\n",
        "tambah_barang(\"Pulpen\", 50)\n",
        "tambah_barang(\"Buku Tulis\", 30)\n",
        "edit_barang(1, 60)\n",
        "hapus_barang(2)\n",
        "tampilkan_barang()\n",
        "\n",
        "conn.close()\n"
      ]
    }
  ]
}